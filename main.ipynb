{
 "cells": [
  {
   "cell_type": "code",
   "execution_count": null,
   "metadata": {},
   "outputs": [],
   "source": [
    "import os\n",
    "HOME = os.getcwd() #getcwd gets the 'current working directory'\n",
    "print(HOME)"
   ]
  },
  {
   "cell_type": "code",
   "execution_count": null,
   "metadata": {},
   "outputs": [],
   "source": [
    "# Pip install method (recommended)\n",
    "\n",
    "%pip install ultralytics\n",
    "\n",
    "from IPython import display\n",
    "display.clear_output()\n",
    "\n",
    "import ultralytics\n",
    "ultralytics.checks()"
   ]
  },
  {
   "cell_type": "code",
   "execution_count": null,
   "metadata": {},
   "outputs": [],
   "source": [
    "from ultralytics import YOLO\n",
    "\n",
    "from IPython.display import display, Image"
   ]
  },
  {
   "cell_type": "code",
   "execution_count": null,
   "metadata": {},
   "outputs": [],
   "source": [
    "!yolo task=detect mode=train model=yolov8s.pt data= data.yaml epochs=25 imgsz=416 plots=True"
   ]
  },
  {
   "cell_type": "code",
   "execution_count": null,
   "metadata": {},
   "outputs": [],
   "source": [
    "!yolo task=detect mode=val model=runs/detect/train/weights/best.pt data=data.yaml"
   ]
  },
  {
   "cell_type": "code",
   "execution_count": null,
   "metadata": {},
   "outputs": [],
   "source": [
    "!yolo task=detect mode=predict model=runs/detect/train/weights/best.pt conf=0.25 source=data/test/images"
   ]
  },
  {
   "cell_type": "code",
   "execution_count": null,
   "metadata": {},
   "outputs": [],
   "source": [
    "#Detecting results on screen\n",
    "\n",
    "import cv2\n",
    "import keyboard\n",
    "import subprocess\n",
    "import threading\n",
    "\n",
    "# Run the YOLO command\n",
    "cmd = \"yolo task=detect mode=predict model=best.pt show=true conf=0.5 source=0\"\n",
    "\n",
    "def run_yolo(cmd):\n",
    "    subprocess.Popen(cmd, shell=True)\n",
    "\n",
    "print(\"Press 'q' to exit...\")\n",
    "yolo_thread = threading.Thread(target=run_yolo, args=(cmd,))\n",
    "yolo_thread.daemon = True  # Set as daemon thread so it exits when main thread exits\n",
    "yolo_thread.start()\n",
    "\n",
    "while True:\n",
    "    if keyboard.is_pressed('q'):  # or any other key you prefer\n",
    "        break\n",
    "\n",
    "# Destroy all OpenCV windows\n",
    "cv2.destroyAllWindows()\n",
    "\n",
    "# Log the detections in the terminal\n",
    "print(\"Detection stopped. Logging results...\")\n",
    "# You can add code here to log the detections, e.g., from a log file or a database\n",
    "print(\"Results logged.\")"
   ]
  },
  {
   "cell_type": "code",
   "execution_count": null,
   "metadata": {},
   "outputs": [],
   "source": [
    "#Exit on pressing the q button \n",
    "\n",
    "import cv2\n",
    "import keyboard\n",
    "import subprocess\n",
    "import threading\n",
    "\n",
    "# Run the YOLO command\n",
    "cmd = \"yolo task=detect mode=predict model=best.pt show=true conf=0.5 source=0\"\n",
    "\n",
    "def run_yolo(cmd, cap):\n",
    "    while True:\n",
    "        \n",
    "        if not cap.isOpened():\n",
    "            break\n",
    "        ret, frame = cap.read()\n",
    "        if not ret:\n",
    "            break\n",
    "        cv2.imshow('YOLO', frame)\n",
    "        if cv2.waitKey(1) & 0xFF == ord('q'):\n",
    "            break\n",
    "    cap.release()\n",
    "    cv2.destroyAllWindows()\n",
    "print(\"Press 'q' to exit...\")\n",
    "cap = cv2.VideoCapture(0)\n",
    "yolo_thread = threading.Thread(target=run_yolo, args=(cmd, cap))\n",
    "yolo_thread.daemon = True  # Set as daemon thread so it exits when main thread exits\n",
    "yolo_thread.start()\n",
    "\n",
    "while True:\n",
    "    if keyboard.is_pressed('q'):  # or any other key you prefer\n",
    "        break\n",
    "\n",
    "# Log the detections in the terminal\n",
    "print(\"Detection stopped. Logging results...\")\n",
    "# You can add code here to log the detections, e.g., from a log file or a database\n",
    "print(\"Results logged.\")"
   ]
  },
  {
   "cell_type": "code",
   "execution_count": 24,
   "metadata": {},
   "outputs": [],
   "source": [
    "with open('output.txt', 'r') as f_in, open('predictions.txt', 'w') as f_out:\n",
    "    # Skip the first 4 lines (modify if the number changes)\n",
    "    for _ in range(4):  # Read and discard the first 4 lines\n",
    "        next(f_in)\n",
    "\n",
    "    for line in f_in:\n",
    "        # Skip lines containing \"no detections\"\n",
    "        if 'no detections' not in line:\n",
    "            parts = line.split()\n",
    "            if len(parts) >= 3:\n",
    "                prediction = ' '.join(parts[3:-1])  # extract the prediction text\n",
    "                f_out.write(prediction.strip())"
   ]
  }
 ],
 "metadata": {
  "kernelspec": {
   "display_name": "base",
   "language": "python",
   "name": "python3"
  },
  "language_info": {
   "codemirror_mode": {
    "name": "ipython",
    "version": 3
   },
   "file_extension": ".py",
   "mimetype": "text/x-python",
   "name": "python",
   "nbconvert_exporter": "python",
   "pygments_lexer": "ipython3",
   "version": "3.11.7"
  }
 },
 "nbformat": 4,
 "nbformat_minor": 2
}
